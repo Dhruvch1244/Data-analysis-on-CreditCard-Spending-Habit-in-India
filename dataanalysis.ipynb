{
 "cells": [
  {
   "cell_type": "code",
   "execution_count": 181,
   "metadata": {},
   "outputs": [],
   "source": [
    "import numpy as num\n",
    "import matplotlib.pyplot as plt\n",
    "import math\n",
    "%matplotlib inline\n",
    "import pandas as pd"
   ]
  },
  {
   "cell_type": "code",
   "execution_count": 182,
   "metadata": {},
   "outputs": [],
   "source": [
    "data = pd.read_csv('Credit card transactions - India - Simple.csv')"
   ]
  },
  {
   "cell_type": "code",
   "execution_count": 183,
   "metadata": {},
   "outputs": [
    {
     "data": {
      "text/html": [
       "<div>\n",
       "<style scoped>\n",
       "    .dataframe tbody tr th:only-of-type {\n",
       "        vertical-align: middle;\n",
       "    }\n",
       "\n",
       "    .dataframe tbody tr th {\n",
       "        vertical-align: top;\n",
       "    }\n",
       "\n",
       "    .dataframe thead th {\n",
       "        text-align: right;\n",
       "    }\n",
       "</style>\n",
       "<table border=\"1\" class=\"dataframe\">\n",
       "  <thead>\n",
       "    <tr style=\"text-align: right;\">\n",
       "      <th></th>\n",
       "      <th>index</th>\n",
       "      <th>City</th>\n",
       "      <th>Date</th>\n",
       "      <th>CardType</th>\n",
       "      <th>ExpType</th>\n",
       "      <th>Gender</th>\n",
       "      <th>Amount</th>\n",
       "    </tr>\n",
       "  </thead>\n",
       "  <tbody>\n",
       "    <tr>\n",
       "      <th>0</th>\n",
       "      <td>0</td>\n",
       "      <td>Delhi, India</td>\n",
       "      <td>29-Oct-14</td>\n",
       "      <td>Gold</td>\n",
       "      <td>Bills</td>\n",
       "      <td>F</td>\n",
       "      <td>82475</td>\n",
       "    </tr>\n",
       "    <tr>\n",
       "      <th>1</th>\n",
       "      <td>1</td>\n",
       "      <td>Greater Mumbai, India</td>\n",
       "      <td>22-Aug-14</td>\n",
       "      <td>Platinum</td>\n",
       "      <td>Bills</td>\n",
       "      <td>F</td>\n",
       "      <td>32555</td>\n",
       "    </tr>\n",
       "    <tr>\n",
       "      <th>2</th>\n",
       "      <td>2</td>\n",
       "      <td>Bengaluru, India</td>\n",
       "      <td>27-Aug-14</td>\n",
       "      <td>Silver</td>\n",
       "      <td>Bills</td>\n",
       "      <td>F</td>\n",
       "      <td>101738</td>\n",
       "    </tr>\n",
       "    <tr>\n",
       "      <th>3</th>\n",
       "      <td>3</td>\n",
       "      <td>Greater Mumbai, India</td>\n",
       "      <td>12-Apr-14</td>\n",
       "      <td>Signature</td>\n",
       "      <td>Bills</td>\n",
       "      <td>F</td>\n",
       "      <td>123424</td>\n",
       "    </tr>\n",
       "    <tr>\n",
       "      <th>4</th>\n",
       "      <td>4</td>\n",
       "      <td>Bengaluru, India</td>\n",
       "      <td>5-May-15</td>\n",
       "      <td>Gold</td>\n",
       "      <td>Bills</td>\n",
       "      <td>F</td>\n",
       "      <td>171574</td>\n",
       "    </tr>\n",
       "    <tr>\n",
       "      <th>5</th>\n",
       "      <td>5</td>\n",
       "      <td>Delhi, India</td>\n",
       "      <td>8-Sep-14</td>\n",
       "      <td>Silver</td>\n",
       "      <td>Bills</td>\n",
       "      <td>F</td>\n",
       "      <td>100036</td>\n",
       "    </tr>\n",
       "    <tr>\n",
       "      <th>6</th>\n",
       "      <td>6</td>\n",
       "      <td>Delhi, India</td>\n",
       "      <td>24-Feb-15</td>\n",
       "      <td>Gold</td>\n",
       "      <td>Bills</td>\n",
       "      <td>F</td>\n",
       "      <td>143250</td>\n",
       "    </tr>\n",
       "    <tr>\n",
       "      <th>7</th>\n",
       "      <td>7</td>\n",
       "      <td>Greater Mumbai, India</td>\n",
       "      <td>26-Jun-14</td>\n",
       "      <td>Platinum</td>\n",
       "      <td>Bills</td>\n",
       "      <td>F</td>\n",
       "      <td>150980</td>\n",
       "    </tr>\n",
       "    <tr>\n",
       "      <th>8</th>\n",
       "      <td>8</td>\n",
       "      <td>Delhi, India</td>\n",
       "      <td>28-Mar-14</td>\n",
       "      <td>Silver</td>\n",
       "      <td>Bills</td>\n",
       "      <td>F</td>\n",
       "      <td>192247</td>\n",
       "    </tr>\n",
       "    <tr>\n",
       "      <th>9</th>\n",
       "      <td>9</td>\n",
       "      <td>Delhi, India</td>\n",
       "      <td>1-Sep-14</td>\n",
       "      <td>Platinum</td>\n",
       "      <td>Bills</td>\n",
       "      <td>F</td>\n",
       "      <td>67932</td>\n",
       "    </tr>\n",
       "    <tr>\n",
       "      <th>10</th>\n",
       "      <td>10</td>\n",
       "      <td>Delhi, India</td>\n",
       "      <td>22-Jun-14</td>\n",
       "      <td>Platinum</td>\n",
       "      <td>Bills</td>\n",
       "      <td>F</td>\n",
       "      <td>280061</td>\n",
       "    </tr>\n",
       "    <tr>\n",
       "      <th>11</th>\n",
       "      <td>11</td>\n",
       "      <td>Greater Mumbai, India</td>\n",
       "      <td>7-Dec-13</td>\n",
       "      <td>Signature</td>\n",
       "      <td>Bills</td>\n",
       "      <td>F</td>\n",
       "      <td>278036</td>\n",
       "    </tr>\n",
       "    <tr>\n",
       "      <th>12</th>\n",
       "      <td>12</td>\n",
       "      <td>Greater Mumbai, India</td>\n",
       "      <td>7-Aug-14</td>\n",
       "      <td>Gold</td>\n",
       "      <td>Bills</td>\n",
       "      <td>F</td>\n",
       "      <td>19226</td>\n",
       "    </tr>\n",
       "    <tr>\n",
       "      <th>13</th>\n",
       "      <td>13</td>\n",
       "      <td>Delhi, India</td>\n",
       "      <td>27-Apr-14</td>\n",
       "      <td>Signature</td>\n",
       "      <td>Bills</td>\n",
       "      <td>F</td>\n",
       "      <td>254359</td>\n",
       "    </tr>\n",
       "    <tr>\n",
       "      <th>14</th>\n",
       "      <td>14</td>\n",
       "      <td>Greater Mumbai, India</td>\n",
       "      <td>15-Aug-14</td>\n",
       "      <td>Signature</td>\n",
       "      <td>Bills</td>\n",
       "      <td>F</td>\n",
       "      <td>302834</td>\n",
       "    </tr>\n",
       "    <tr>\n",
       "      <th>15</th>\n",
       "      <td>15</td>\n",
       "      <td>Greater Mumbai, India</td>\n",
       "      <td>28-Nov-14</td>\n",
       "      <td>Platinum</td>\n",
       "      <td>Bills</td>\n",
       "      <td>F</td>\n",
       "      <td>647116</td>\n",
       "    </tr>\n",
       "    <tr>\n",
       "      <th>16</th>\n",
       "      <td>16</td>\n",
       "      <td>Greater Mumbai, India</td>\n",
       "      <td>14-Jun-14</td>\n",
       "      <td>Signature</td>\n",
       "      <td>Bills</td>\n",
       "      <td>F</td>\n",
       "      <td>421878</td>\n",
       "    </tr>\n",
       "    <tr>\n",
       "      <th>17</th>\n",
       "      <td>17</td>\n",
       "      <td>Greater Mumbai, India</td>\n",
       "      <td>30-Mar-15</td>\n",
       "      <td>Gold</td>\n",
       "      <td>Bills</td>\n",
       "      <td>F</td>\n",
       "      <td>986379</td>\n",
       "    </tr>\n",
       "    <tr>\n",
       "      <th>18</th>\n",
       "      <td>18</td>\n",
       "      <td>Greater Mumbai, India</td>\n",
       "      <td>15-Mar-14</td>\n",
       "      <td>Platinum</td>\n",
       "      <td>Bills</td>\n",
       "      <td>F</td>\n",
       "      <td>213047</td>\n",
       "    </tr>\n",
       "    <tr>\n",
       "      <th>19</th>\n",
       "      <td>19</td>\n",
       "      <td>Greater Mumbai, India</td>\n",
       "      <td>9-Nov-13</td>\n",
       "      <td>Platinum</td>\n",
       "      <td>Bills</td>\n",
       "      <td>F</td>\n",
       "      <td>735566</td>\n",
       "    </tr>\n",
       "  </tbody>\n",
       "</table>\n",
       "</div>"
      ],
      "text/plain": [
       "    index                   City       Date   CardType ExpType Gender  Amount\n",
       "0       0           Delhi, India  29-Oct-14       Gold   Bills      F   82475\n",
       "1       1  Greater Mumbai, India  22-Aug-14   Platinum   Bills      F   32555\n",
       "2       2       Bengaluru, India  27-Aug-14     Silver   Bills      F  101738\n",
       "3       3  Greater Mumbai, India  12-Apr-14  Signature   Bills      F  123424\n",
       "4       4       Bengaluru, India   5-May-15       Gold   Bills      F  171574\n",
       "5       5           Delhi, India   8-Sep-14     Silver   Bills      F  100036\n",
       "6       6           Delhi, India  24-Feb-15       Gold   Bills      F  143250\n",
       "7       7  Greater Mumbai, India  26-Jun-14   Platinum   Bills      F  150980\n",
       "8       8           Delhi, India  28-Mar-14     Silver   Bills      F  192247\n",
       "9       9           Delhi, India   1-Sep-14   Platinum   Bills      F   67932\n",
       "10     10           Delhi, India  22-Jun-14   Platinum   Bills      F  280061\n",
       "11     11  Greater Mumbai, India   7-Dec-13  Signature   Bills      F  278036\n",
       "12     12  Greater Mumbai, India   7-Aug-14       Gold   Bills      F   19226\n",
       "13     13           Delhi, India  27-Apr-14  Signature   Bills      F  254359\n",
       "14     14  Greater Mumbai, India  15-Aug-14  Signature   Bills      F  302834\n",
       "15     15  Greater Mumbai, India  28-Nov-14   Platinum   Bills      F  647116\n",
       "16     16  Greater Mumbai, India  14-Jun-14  Signature   Bills      F  421878\n",
       "17     17  Greater Mumbai, India  30-Mar-15       Gold   Bills      F  986379\n",
       "18     18  Greater Mumbai, India  15-Mar-14   Platinum   Bills      F  213047\n",
       "19     19  Greater Mumbai, India   9-Nov-13   Platinum   Bills      F  735566"
      ]
     },
     "execution_count": 183,
     "metadata": {},
     "output_type": "execute_result"
    }
   ],
   "source": [
    "data.head(20)"
   ]
  },
  {
   "attachments": {},
   "cell_type": "markdown",
   "metadata": {},
   "source": [
    "Lets count total number of males and females transactions"
   ]
  },
  {
   "cell_type": "code",
   "execution_count": 184,
   "metadata": {},
   "outputs": [
    {
     "name": "stdout",
     "output_type": "stream",
     "text": [
      "Total No of female :  13680\n",
      "Total No of male :  12371\n"
     ]
    }
   ],
   "source": [
    "nooffemale = 0\n",
    "noofmale = 0\n",
    "for i in range(int(data.index[-1])):\n",
    "    if(data.Gender[i]=='F'):\n",
    "        nooffemale+=1\n",
    "    \n",
    "    elif(data.Gender[i]=='M'):\n",
    "        noofmale+=1\n",
    "print(f\"Total No of female : \",nooffemale)\n",
    "print(f\"Total No of male : \",noofmale)\n"
   ]
  },
  {
   "attachments": {},
   "cell_type": "markdown",
   "metadata": {},
   "source": [
    "Here in our data set we can see that females have done more purchases then men"
   ]
  },
  {
   "attachments": {},
   "cell_type": "markdown",
   "metadata": {},
   "source": [
    "Now lets see total amount and average amount spend by males and females"
   ]
  },
  {
   "cell_type": "code",
   "execution_count": 185,
   "metadata": {},
   "outputs": [
    {
     "name": "stdout",
     "output_type": "stream",
     "text": [
      "total amount by female :  2205311030\n",
      "total amount by male :  1869337933\n"
     ]
    }
   ],
   "source": [
    "amountf=0\n",
    "amountm=0\n",
    "for i in range(int(data.index[-1])):\n",
    "    if(data.Gender[i]=='F'):\n",
    "        amountf+=data.Amount[i]\n",
    "    \n",
    "    elif(data.Gender[i]=='M'):\n",
    "        amountm+=data.Amount[i]\n",
    "print(f\"total amount by female : \",amountf)\n",
    "print(f\"total amount by male : \",amountm)"
   ]
  },
  {
   "cell_type": "code",
   "execution_count": 186,
   "metadata": {},
   "outputs": [
    {
     "name": "stdout",
     "output_type": "stream",
     "text": [
      "Average female spend:  161206.9466374269\n",
      "Average Male spend :  151106.45323741008\n"
     ]
    }
   ],
   "source": [
    "avg_spend_female = amountf/nooffemale\n",
    "avg_spend_male = amountm/noofmale\n",
    "print(f\"Average female spend: \",avg_spend_female)\n",
    "print(f\"Average Male spend : \",avg_spend_male)"
   ]
  },
  {
   "attachments": {},
   "cell_type": "markdown",
   "metadata": {},
   "source": [
    "females have do more average card purchases then men"
   ]
  },
  {
   "attachments": {},
   "cell_type": "markdown",
   "metadata": {},
   "source": [
    "Diffrent amount of Purchases by card\n",
    "\n",
    "We have two genders - Males and Females\n",
    "\n",
    "They have Silver,Gold,Signature and Platinium Type of cards lets plot bar graph of all 8 type of person and their count"
   ]
  },
  {
   "cell_type": "code",
   "execution_count": 187,
   "metadata": {},
   "outputs": [],
   "source": [
    "arr = num.zeros((8))\n",
    "ars =  [\"Fs\",\"Fg\",\"FS\",\"FP\",\"Ms\",\"Mg\",\"MS\",\"MP\"]\n",
    "for i in range(int(data.index[-1])):\n",
    "    if(data.Gender[i]=='F' and data.CardType[i]==\"Silver\"):\n",
    "        arr[0]+=data.Amount[i]\n",
    "    elif(data.Gender[i]=='F' and data.CardType[i]==\"Gold\"):\n",
    "        arr[1]+=data.Amount[i]\n",
    "    elif(data.Gender[i]=='F' and data.CardType[i]==\"Signature\"):\n",
    "        arr[2]+=data.Amount[i]\n",
    "    elif(data.Gender[i]=='F' and data.CardType[i]==\"Platinum\"):\n",
    "        arr[3]+=data.Amount[i]\n",
    "    elif(data.Gender[i]=='M' and data.CardType[i]==\"Silver\"):\n",
    "        arr[4]+=data.Amount[i]\n",
    "    elif(data.Gender[i]=='M' and data.CardType[i]==\"Gold\"):\n",
    "        arr[5]+=data.Amount[i]\n",
    "    elif(data.Gender[i]=='M' and data.CardType[i]==\"Signature\"):\n",
    "        arr[6]+=data.Amount[i]\n",
    "    elif(data.Gender[i]=='M' and data.CardType[i]==\"Platinum\"):\n",
    "        arr[7]+=data.Amount[i]"
   ]
  },
  {
   "cell_type": "code",
   "execution_count": 188,
   "metadata": {},
   "outputs": [
    {
     "data": {
      "image/png": "[encoded data removed]",
      "text/plain": [
       "<Figure size 640x480 with 1 Axes>"
      ]
     },
     "metadata": {},
     "output_type": "display_data"
    }
   ],
   "source": [
    "plt.bar(ars,arr, color ='maroon',width = 0.4)\n",
    "plt.xlabel(\"Gender with diffrent cards\")\n",
    "plt.ylabel(\"Amount Spend\")\n",
    "plt.title(\"Credit Card Purchases in India\")\n",
    "plt.show()"
   ]
  },
  {
   "attachments": {},
   "cell_type": "markdown",
   "metadata": {},
   "source": [
    "Hence we can see that females with silver card type spend most while female with gold card spend least\n",
    "\n",
    "Also in Men, Males with Platinum cards spend most while men with gold spend least\n",
    "\n"
   ]
  },
  {
   "attachments": {},
   "cell_type": "markdown",
   "metadata": {},
   "source": [
    "Now lets see the Date and spending together what date has saw most spending in general"
   ]
  },
  {
   "attachments": {},
   "cell_type": "markdown",
   "metadata": {},
   "source": [
    "Lets Find City and Check what spending habits are there"
   ]
  },
  {
   "cell_type": "code",
   "execution_count": 189,
   "metadata": {},
   "outputs": [],
   "source": [
    "l = [\"Delhi, India\",\"Greater Mumbai, India\",\"Bengaluru, India\",\"Ahmedabad, India\",\"else\"]\n",
    "ap = num.zeros(5)\n",
    "t = [\"Delhi\",\"Mumbai\",\"Bengaluru\",\"Ahmedabad\",\"else\"]\n",
    "for i in range(data.index[-1]):\n",
    "    if(data.City[i]==l[0]):\n",
    "        ap[0]+=data.Amount[i]\n",
    "    elif(data.City[i]==l[1]):\n",
    "        ap[1]+=data.Amount[i]\n",
    "    elif(data.City[i]==l[2]):\n",
    "        ap[2]+=data.Amount[i]\n",
    "    elif(data.City[i]==l[3]):\n",
    "        ap[3]+=data.Amount[i]\n",
    "    else:\n",
    "        ap[4]+=data.Amount[i]\n",
    "    "
   ]
  },
  {
   "cell_type": "code",
   "execution_count": 190,
   "metadata": {},
   "outputs": [
    {
     "data": {
      "image/png": "[encoded data removed]",
      "text/plain": [
       "<Figure size 640x480 with 1 Axes>"
      ]
     },
     "metadata": {},
     "output_type": "display_data"
    }
   ],
   "source": [
    "plt.bar(t,ap, color ='blue',width = 0.4)\n",
    "plt.xlabel(\"city\")\n",
    "plt.ylabel(\"Amount Spend\")\n",
    "plt.title(\"Credit Card Purchases in India\")\n",
    "plt.show()"
   ]
  },
  {
   "attachments": {},
   "cell_type": "markdown",
   "metadata": {},
   "source": [
    "Mumbai has most spent after it bengluru,delhi and ahemdabad have more purchases"
   ]
  },
  {
   "attachments": {},
   "cell_type": "markdown",
   "metadata": {},
   "source": [
    "lets see Purchases trends by seeing what type of expenses they used their credit card for -"
   ]
  },
  {
   "cell_type": "code",
   "execution_count": 197,
   "metadata": {},
   "outputs": [],
   "source": [
    "l1 = [\"Bills\",\"Fuel\",\"Grocery\",\"Food\",\"Entertainment\",\"Travel\"]\n",
    "al = num.zeros(6)\n",
    "for i in range(data.index[-1]):\n",
    "    if(data.ExpType[i]==l1[0]):\n",
    "        al[0]+=data.Amount[i]\n",
    "    elif(data.ExpType[i]==l1[1]):\n",
    "        al[1]+=data.Amount[i]\n",
    "    elif(data.ExpType[i]==l1[2]):\n",
    "        al[2]+=data.Amount[i]\n",
    "    elif(data.ExpType[i]==l1[3]):\n",
    "        al[3]+=data.Amount[i]\n",
    "    elif(data.ExpType[i]==l1[4]):\n",
    "        al[4]+=data.Amount[i]\n",
    "    elif(data.ExpType[i]==l1[5]):\n",
    "        al[5]+=data.Amount[i]"
   ]
  },
  {
   "cell_type": "code",
   "execution_count": 198,
   "metadata": {},
   "outputs": [
    {
     "data": {
      "image/png": "[encoded data removed]",
      "text/plain": [
       "<Figure size 640x480 with 1 Axes>"
      ]
     },
     "metadata": {},
     "output_type": "display_data"
    }
   ],
   "source": [
    "plt.bar(l1,al, color ='green',width = 0.4)\n",
    "plt.xlabel(\"Type of Expense\")\n",
    "plt.ylabel(\"Amount Spend\")\n",
    "plt.title(\"Credit Card Purchases in India\")\n",
    "plt.show()"
   ]
  },
  {
   "attachments": {},
   "cell_type": "markdown",
   "metadata": {},
   "source": [
    "most credit card purchases are done for Bills then food then fuel , It shows spending of diffrent kinds of people"
   ]
  }
 ],
 "metadata": {
  "kernelspec": {
   "display_name": "Python 3",
   "language": "python",
   "name": "python3"
  },
  "language_info": {
   "codemirror_mode": {
    "name": "ipython",
    "version": 3
   },
   "file_extension": ".py",
   "mimetype": "text/x-python",
   "name": "python",
   "nbconvert_exporter": "python",
   "pygments_lexer": "ipython3",
   "version": "3.10.9"
  },
  "orig_nbformat": 4,
  "vscode": {
   "interpreter": {
    "hash": "2f73e532cbd269d1026df71fd8a305c34d1349d3ece4a0a5c075e0ca7a6a1c7f"
   }
  }
 },
 "nbformat": 4,
 "nbformat_minor": 2
}
